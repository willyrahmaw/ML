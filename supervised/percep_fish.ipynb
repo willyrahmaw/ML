{
 "cells": [
  {
   "cell_type": "code",
   "execution_count": 67,
   "metadata": {},
   "outputs": [],
   "source": [
    "import numpy as np"
   ]
  },
  {
   "cell_type": "code",
   "execution_count": 68,
   "metadata": {},
   "outputs": [],
   "source": [
    "import pandas as pd\n",
    "from sklearn.model_selection import train_test_split\n",
    "from sklearn.preprocessing import LabelEncoder, StandardScaler\n",
    "from sklearn.linear_model import Perceptron\n",
    "from sklearn.metrics import accuracy_score, classification_report"
   ]
  },
  {
   "cell_type": "code",
   "execution_count": 69,
   "metadata": {},
   "outputs": [],
   "source": [
    "fruit = 'data/fish_data.csv'\n",
    "data = pd.read_csv(fruit)"
   ]
  },
  {
   "cell_type": "code",
   "execution_count": 70,
   "metadata": {},
   "outputs": [
    {
     "name": "stdout",
     "output_type": "stream",
     "text": [
      "Data awal:\n",
      "              species  length  weight  w_l_ratio\n",
      "0  Anabas testudineus   10.66    3.45       0.32\n",
      "1  Anabas testudineus    6.91    3.27       0.47\n",
      "2  Anabas testudineus    8.38    3.46       0.41\n",
      "3  Anabas testudineus    7.57    3.36       0.44\n",
      "4  Anabas testudineus   10.83    3.38       0.31\n"
     ]
    }
   ],
   "source": [
    "print(\"Data awal:\")\n",
    "print(data.head())"
   ]
  },
  {
   "cell_type": "code",
   "execution_count": 71,
   "metadata": {},
   "outputs": [],
   "source": [
    "le = LabelEncoder()\n"
   ]
  },
  {
   "cell_type": "code",
   "execution_count": 72,
   "metadata": {},
   "outputs": [],
   "source": [
    "data['species'] = le.fit_transform(data['species'])"
   ]
  },
  {
   "cell_type": "code",
   "execution_count": 73,
   "metadata": {},
   "outputs": [],
   "source": [
    "x = data.iloc[:,1:].values\n",
    "y = data.iloc[:,0].values"
   ]
  },
  {
   "cell_type": "code",
   "execution_count": 74,
   "metadata": {},
   "outputs": [],
   "source": [
    "y= y.reshape(len(y),)"
   ]
  },
  {
   "cell_type": "code",
   "execution_count": 75,
   "metadata": {},
   "outputs": [
    {
     "data": {
      "text/plain": [
       "array(['Anabas testudineus', 'Coilia dussumieri',\n",
       "       'Otolithoides biauritus', 'Otolithoides pama', 'Pethia conchonius',\n",
       "       'Polynemus paradiseus', 'Puntius lateristriga', 'Setipinna taty',\n",
       "       'Sillaginopsis panijus'], dtype=object)"
      ]
     },
     "execution_count": 75,
     "metadata": {},
     "output_type": "execute_result"
    }
   ],
   "source": [
    "le.classes_"
   ]
  },
  {
   "cell_type": "code",
   "execution_count": 76,
   "metadata": {},
   "outputs": [
    {
     "name": "stdout",
     "output_type": "stream",
     "text": [
      "Anabas testudineus = 0\n",
      "Coilia dussumieri = 1\n",
      "Otolithoides biauritus = 2\n",
      "Otolithoides pama = 3\n",
      "Pethia conchonius = 4\n",
      "Polynemus paradiseus = 5\n",
      "Puntius lateristriga = 6\n",
      "Setipinna taty = 7\n",
      "Sillaginopsis panijus = 8\n"
     ]
    }
   ],
   "source": [
    "for i,name in enumerate(le.classes_):\n",
    "    print(name, \"=\", i)"
   ]
  },
  {
   "cell_type": "code",
   "execution_count": 77,
   "metadata": {},
   "outputs": [],
   "source": [
    "scaler = StandardScaler()\n",
    "scaler = scaler.fit(x)"
   ]
  },
  {
   "cell_type": "code",
   "execution_count": 78,
   "metadata": {},
   "outputs": [],
   "source": [
    "x_train, x_test, y_train, y_test = train_test_split(x, y, test_size=0.2, random_state=42)"
   ]
  },
  {
   "cell_type": "code",
   "execution_count": 79,
   "metadata": {},
   "outputs": [],
   "source": [
    "model = Perceptron(max_iter=100, tol=0.2)"
   ]
  },
  {
   "cell_type": "code",
   "execution_count": 80,
   "metadata": {},
   "outputs": [],
   "source": [
    "percep = model.fit(x_train, y_train)"
   ]
  },
  {
   "cell_type": "code",
   "execution_count": 81,
   "metadata": {},
   "outputs": [],
   "source": [
    "y_pred = model.predict(x_test)"
   ]
  },
  {
   "cell_type": "code",
   "execution_count": 82,
   "metadata": {},
   "outputs": [
    {
     "data": {
      "text/plain": [
       "array([7, 7, 8, 5, 7, 8, 7, 8, 8, 7, 8, 1, 8, 7, 7, 1, 4, 1, 4, 1, 8, 7,\n",
       "       8, 8, 0, 7, 8, 7, 7, 8, 8, 8, 4, 7, 4, 8, 8, 8, 8, 8, 0, 4, 7, 8,\n",
       "       7, 7, 4, 4, 8, 7, 7, 7, 0, 8, 7, 8, 4, 7, 1, 7, 7, 8, 7, 7, 7, 4,\n",
       "       7, 7, 7, 8, 8, 7, 7, 7, 1, 7, 8, 7, 8, 7, 4, 7, 7, 7, 7, 7, 8, 4,\n",
       "       4, 8, 7, 7, 7, 7, 8, 7, 8, 0, 0, 0, 7, 1, 1, 7, 7, 8, 1, 7, 4, 0,\n",
       "       7, 7, 7, 7, 7, 7, 7, 8, 7, 7, 0, 0, 8, 7, 7, 7, 7, 7, 8, 8, 7, 8,\n",
       "       1, 7, 4, 4, 8, 8, 8, 7, 7, 4, 7, 7, 8, 7, 7, 8, 8, 8, 4, 4, 4, 8,\n",
       "       8, 7, 4, 1, 1, 7, 7, 1, 7, 7, 7, 8, 7, 7, 8, 0, 8, 4, 8, 4, 7, 7,\n",
       "       7, 7, 8, 7, 7, 7, 0, 4, 7, 4, 1, 7, 1, 7, 8, 8, 7, 7, 7, 8, 8, 1,\n",
       "       7, 4, 8, 7, 8, 1, 8, 8, 8, 4, 8, 8, 1, 8, 4, 1, 7, 8, 7, 8, 7, 7,\n",
       "       8, 7, 8, 8, 4, 1, 7, 7, 7, 8, 8, 8, 7, 7, 1, 7, 7, 8, 4, 8, 7, 7,\n",
       "       4, 4, 7, 8, 7, 7, 7, 4, 8, 7, 4, 7, 7, 7, 8, 5, 7, 4, 7, 4, 8, 7,\n",
       "       4, 7, 7, 8, 7, 8, 7, 1, 7, 7, 8, 8, 8, 8, 7, 4, 4, 7, 1, 7, 8, 7,\n",
       "       8, 7, 7, 7, 7, 7, 1, 8, 7, 8, 7, 4, 8, 8, 7, 8, 7, 1, 8, 1, 7, 0,\n",
       "       4, 7, 4, 7, 7, 8, 7, 7, 7, 7, 7, 7, 1, 7, 8, 8, 7, 4, 0, 1, 7, 8,\n",
       "       7, 8, 7, 1, 0, 4, 1, 7, 4, 7, 8, 4, 8, 0, 8, 7, 7, 1, 1, 8, 1, 8,\n",
       "       8, 8, 7, 1, 1, 7, 4, 4, 0, 8, 7, 7, 1, 7, 7, 8, 7, 8, 8, 8, 0, 7,\n",
       "       7, 8, 7, 4, 1, 8, 1, 8, 8, 7, 7, 7, 7, 0, 7, 1, 4, 4, 7, 7, 8, 7,\n",
       "       4, 4, 0, 8, 4, 8, 4, 8, 5, 8, 4, 8, 8, 4, 7, 7, 8, 7, 7, 4, 7, 8,\n",
       "       8, 8, 7, 7, 4, 7, 7, 8, 4, 8, 8, 7, 7, 7, 7, 5, 8, 4, 7, 7, 7, 7,\n",
       "       7, 7, 7, 7, 7, 8, 8, 8, 7, 8, 8, 1, 8, 1, 7, 8, 7, 8, 7, 4, 8, 7,\n",
       "       7, 7, 8, 5, 0, 8, 7, 4, 1, 7, 7, 7, 7, 7, 8, 7, 8, 7, 7, 4, 7, 8,\n",
       "       7, 7, 7, 7, 7, 4, 1, 7, 7, 7, 4, 7, 7, 8, 4, 8, 7, 0, 7, 8, 1, 1,\n",
       "       1, 1, 7, 1, 4, 7, 7, 8, 8, 8, 8, 7, 8, 7, 7, 7, 7, 8, 7, 7, 7, 7,\n",
       "       7, 7, 8, 7, 1, 1, 8, 8, 7, 4, 4, 7, 1, 8, 1, 7, 4, 7, 7, 7, 8, 8,\n",
       "       4, 7, 8, 5, 1, 4, 7, 7, 7, 7, 8, 7, 8, 7, 7, 8, 4, 4, 8, 8, 5, 8,\n",
       "       7, 7, 7, 7, 7, 8, 8, 8, 8, 4, 8, 1, 8, 8, 7, 1, 4, 8, 0, 1, 7, 7,\n",
       "       7, 7, 0, 1, 1, 7, 4, 8, 8, 7, 1, 5, 7, 7, 0, 8, 7, 7, 1, 7, 8, 8,\n",
       "       4, 7, 7, 8, 8, 7, 7, 8, 7, 4, 1, 1, 7, 7, 8, 8, 8, 8, 7, 7, 7, 8,\n",
       "       7, 8, 1, 7, 7, 7, 1, 8, 4, 7, 8, 7, 8, 7, 7, 5, 7, 1, 8, 4, 8, 4,\n",
       "       0, 1, 7, 8, 8, 7, 8, 1, 7, 1, 7, 7, 0, 7, 7, 8, 0, 8, 1, 0, 8, 7,\n",
       "       7, 8, 7, 4, 8, 7, 8, 8, 8, 8, 7, 7, 7, 8, 4, 8, 8, 7, 7, 7, 7, 8,\n",
       "       7, 7, 7, 8, 7, 8, 8, 7, 7, 8, 1, 4, 7, 8, 7, 7, 7, 8, 8, 7, 4, 4,\n",
       "       8, 7, 4, 7, 8, 8, 8, 8, 7, 1, 7, 8, 1, 7, 8, 8, 8, 8, 8, 0, 8, 7,\n",
       "       8, 8, 7, 1, 8, 4, 8, 7, 7, 4, 7, 1, 7, 8, 7, 4, 7, 1, 4, 7, 0, 8,\n",
       "       8, 7, 8, 0, 4, 8, 7, 8, 1, 7, 8, 8, 7, 4, 8, 8, 4, 4, 0, 7, 4, 0,\n",
       "       1, 4, 4, 7, 8, 7, 7, 7, 0, 5, 7, 7, 7, 7, 7, 7, 8, 4, 7, 8, 0, 7,\n",
       "       7, 7])"
      ]
     },
     "execution_count": 82,
     "metadata": {},
     "output_type": "execute_result"
    }
   ],
   "source": [
    "y_pred"
   ]
  },
  {
   "cell_type": "code",
   "execution_count": 83,
   "metadata": {},
   "outputs": [
    {
     "name": "stdout",
     "output_type": "stream",
     "text": [
      "\n",
      "Akurasi model: 0.48651960784313725\n",
      "\n",
      "Laporan klasifikasi:\n",
      "              precision    recall  f1-score   support\n",
      "\n",
      "           0       1.00      0.29      0.45       120\n",
      "           1       1.00      1.00      1.00        77\n",
      "           2       0.00      0.00      0.00        91\n",
      "           3       0.00      0.00      0.00        86\n",
      "           4       0.89      1.00      0.94        89\n",
      "           5       1.00      0.10      0.18       102\n",
      "           6       0.00      0.00      0.00        65\n",
      "           7       0.28      1.00      0.44       100\n",
      "           8       0.36      1.00      0.52        86\n",
      "\n",
      "    accuracy                           0.49       816\n",
      "   macro avg       0.50      0.49      0.39       816\n",
      "weighted avg       0.54      0.49      0.40       816\n",
      "\n"
     ]
    },
    {
     "name": "stderr",
     "output_type": "stream",
     "text": [
      "c:\\Users\\LENOVO\\AppData\\Local\\Programs\\Python\\Python312\\Lib\\site-packages\\sklearn\\metrics\\_classification.py:1565: UndefinedMetricWarning: Precision is ill-defined and being set to 0.0 in labels with no predicted samples. Use `zero_division` parameter to control this behavior.\n",
      "  _warn_prf(average, modifier, f\"{metric.capitalize()} is\", len(result))\n",
      "c:\\Users\\LENOVO\\AppData\\Local\\Programs\\Python\\Python312\\Lib\\site-packages\\sklearn\\metrics\\_classification.py:1565: UndefinedMetricWarning: Precision is ill-defined and being set to 0.0 in labels with no predicted samples. Use `zero_division` parameter to control this behavior.\n",
      "  _warn_prf(average, modifier, f\"{metric.capitalize()} is\", len(result))\n",
      "c:\\Users\\LENOVO\\AppData\\Local\\Programs\\Python\\Python312\\Lib\\site-packages\\sklearn\\metrics\\_classification.py:1565: UndefinedMetricWarning: Precision is ill-defined and being set to 0.0 in labels with no predicted samples. Use `zero_division` parameter to control this behavior.\n",
      "  _warn_prf(average, modifier, f\"{metric.capitalize()} is\", len(result))\n"
     ]
    }
   ],
   "source": [
    "accuracy = accuracy_score(y_test, y_pred)\n",
    "print(\"\\nAkurasi model:\", accuracy)\n",
    "print(\"\\nLaporan klasifikasi:\")\n",
    "print(classification_report(y_test, y_pred))\n"
   ]
  },
  {
   "cell_type": "code",
   "execution_count": 84,
   "metadata": {},
   "outputs": [
    {
     "data": {
      "text/plain": [
       "0.48480392156862745"
      ]
     },
     "execution_count": 84,
     "metadata": {},
     "output_type": "execute_result"
    }
   ],
   "source": [
    "percep.score(x,y)"
   ]
  },
  {
   "cell_type": "code",
   "execution_count": 86,
   "metadata": {},
   "outputs": [
    {
     "name": "stdout",
     "output_type": "stream",
     "text": [
      "Coilia dussumieri\n",
      "[[11.61774442 -3.59521374 -2.0546178 ]]\n"
     ]
    }
   ],
   "source": [
    "data_baru = [[100,0,0]]\n",
    "scale = scaler.transform(data_baru)\n",
    "data_prediksi = model.predict(scale)\n",
    "encode =le.inverse_transform(data_prediksi)\n",
    "print(encode[0])\n",
    "print(scale)"
   ]
  },
  {
   "cell_type": "code",
   "execution_count": 389,
   "metadata": {},
   "outputs": [
    {
     "data": {
      "text/html": [
       "<div>\n",
       "<style scoped>\n",
       "    .dataframe tbody tr th:only-of-type {\n",
       "        vertical-align: middle;\n",
       "    }\n",
       "\n",
       "    .dataframe tbody tr th {\n",
       "        vertical-align: top;\n",
       "    }\n",
       "\n",
       "    .dataframe thead th {\n",
       "        text-align: right;\n",
       "    }\n",
       "</style>\n",
       "<table border=\"1\" class=\"dataframe\">\n",
       "  <thead>\n",
       "    <tr style=\"text-align: right;\">\n",
       "      <th></th>\n",
       "      <th>diameter</th>\n",
       "      <th>weight</th>\n",
       "      <th>red</th>\n",
       "      <th>green</th>\n",
       "      <th>blue</th>\n",
       "      <th>name</th>\n",
       "    </tr>\n",
       "  </thead>\n",
       "  <tbody>\n",
       "    <tr>\n",
       "      <th>0</th>\n",
       "      <td>2.96</td>\n",
       "      <td>86.76</td>\n",
       "      <td>172</td>\n",
       "      <td>85</td>\n",
       "      <td>2</td>\n",
       "      <td>1</td>\n",
       "    </tr>\n",
       "    <tr>\n",
       "      <th>1</th>\n",
       "      <td>3.91</td>\n",
       "      <td>88.05</td>\n",
       "      <td>166</td>\n",
       "      <td>78</td>\n",
       "      <td>3</td>\n",
       "      <td>1</td>\n",
       "    </tr>\n",
       "    <tr>\n",
       "      <th>2</th>\n",
       "      <td>4.42</td>\n",
       "      <td>95.17</td>\n",
       "      <td>156</td>\n",
       "      <td>81</td>\n",
       "      <td>2</td>\n",
       "      <td>1</td>\n",
       "    </tr>\n",
       "    <tr>\n",
       "      <th>3</th>\n",
       "      <td>4.47</td>\n",
       "      <td>95.60</td>\n",
       "      <td>163</td>\n",
       "      <td>81</td>\n",
       "      <td>4</td>\n",
       "      <td>1</td>\n",
       "    </tr>\n",
       "    <tr>\n",
       "      <th>4</th>\n",
       "      <td>4.48</td>\n",
       "      <td>95.76</td>\n",
       "      <td>161</td>\n",
       "      <td>72</td>\n",
       "      <td>9</td>\n",
       "      <td>1</td>\n",
       "    </tr>\n",
       "    <tr>\n",
       "      <th>...</th>\n",
       "      <td>...</td>\n",
       "      <td>...</td>\n",
       "      <td>...</td>\n",
       "      <td>...</td>\n",
       "      <td>...</td>\n",
       "      <td>...</td>\n",
       "    </tr>\n",
       "    <tr>\n",
       "      <th>9995</th>\n",
       "      <td>15.35</td>\n",
       "      <td>253.89</td>\n",
       "      <td>149</td>\n",
       "      <td>77</td>\n",
       "      <td>20</td>\n",
       "      <td>0</td>\n",
       "    </tr>\n",
       "    <tr>\n",
       "      <th>9996</th>\n",
       "      <td>15.41</td>\n",
       "      <td>254.67</td>\n",
       "      <td>148</td>\n",
       "      <td>68</td>\n",
       "      <td>7</td>\n",
       "      <td>0</td>\n",
       "    </tr>\n",
       "    <tr>\n",
       "      <th>9997</th>\n",
       "      <td>15.59</td>\n",
       "      <td>256.50</td>\n",
       "      <td>168</td>\n",
       "      <td>82</td>\n",
       "      <td>20</td>\n",
       "      <td>0</td>\n",
       "    </tr>\n",
       "    <tr>\n",
       "      <th>9998</th>\n",
       "      <td>15.92</td>\n",
       "      <td>260.14</td>\n",
       "      <td>142</td>\n",
       "      <td>72</td>\n",
       "      <td>11</td>\n",
       "      <td>0</td>\n",
       "    </tr>\n",
       "    <tr>\n",
       "      <th>9999</th>\n",
       "      <td>16.45</td>\n",
       "      <td>261.51</td>\n",
       "      <td>152</td>\n",
       "      <td>74</td>\n",
       "      <td>2</td>\n",
       "      <td>0</td>\n",
       "    </tr>\n",
       "  </tbody>\n",
       "</table>\n",
       "<p>10000 rows × 6 columns</p>\n",
       "</div>"
      ],
      "text/plain": [
       "      diameter  weight  red  green  blue  name\n",
       "0         2.96   86.76  172     85     2     1\n",
       "1         3.91   88.05  166     78     3     1\n",
       "2         4.42   95.17  156     81     2     1\n",
       "3         4.47   95.60  163     81     4     1\n",
       "4         4.48   95.76  161     72     9     1\n",
       "...        ...     ...  ...    ...   ...   ...\n",
       "9995     15.35  253.89  149     77    20     0\n",
       "9996     15.41  254.67  148     68     7     0\n",
       "9997     15.59  256.50  168     82    20     0\n",
       "9998     15.92  260.14  142     72    11     0\n",
       "9999     16.45  261.51  152     74     2     0\n",
       "\n",
       "[10000 rows x 6 columns]"
      ]
     },
     "execution_count": 389,
     "metadata": {},
     "output_type": "execute_result"
    }
   ],
   "source": [
    "data"
   ]
  }
 ],
 "metadata": {
  "kernelspec": {
   "display_name": "Python 3",
   "language": "python",
   "name": "python3"
  },
  "language_info": {
   "codemirror_mode": {
    "name": "ipython",
    "version": 3
   },
   "file_extension": ".py",
   "mimetype": "text/x-python",
   "name": "python",
   "nbconvert_exporter": "python",
   "pygments_lexer": "ipython3",
   "version": "3.12.7"
  }
 },
 "nbformat": 4,
 "nbformat_minor": 2
}
